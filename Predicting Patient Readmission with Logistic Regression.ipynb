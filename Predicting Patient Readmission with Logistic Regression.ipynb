{
 "cells": [
  {
   "cell_type": "markdown",
   "metadata": {},
   "source": [
    "# Research Question\n",
    "\n",
    "We will build a model for predicting whether or not a patient will be readmitted to the hospital within 30 days of their release. We will look at patient demographics and health conditions to make this prediction."
   ]
  },
  {
   "cell_type": "markdown",
   "metadata": {},
   "source": [
    "# Methodology\n",
    "\n",
    "Logistic Regression is the method of choice here because we are trying to predict a binary outcome: either \"yes\" or \"no\" (1 or 0). \n",
    "\n",
    "Logistic Regression relies on the following assumptions:\n",
    "- The dependent variable is in fact binary\n",
    "- All of the observations are independent\n",
    "- There is no Multicollinearity among explanatory variables\n",
    "- There are no extreme outlisers\n",
    "- There is a Linear Relationship Between Explanatory Variables and the Logit of the Response Variable\n",
    "- The sample size is sufficiently large\n",
    "\n",
    "[Source](https://www.statology.org/assumptions-of-logistic-regression/)"
   ]
  },
  {
   "cell_type": "markdown",
   "metadata": {},
   "source": [
    "## Tools\n",
    "\n",
    "Python in Jupyterlab was used to write the code for this analysis. There are many statistics libraries written in python that make what we are planning to do very simple:\n",
    "- ``Numpy`` and ``pandas`` for standard dataframe and numerical operations\n",
    "- ``Sklearn`` and ``statsmodels`` for building the regression models\n",
    "- ``matplotlib``, ``yellowbrick``, and ``sns`` for visualizations. "
   ]
  },
  {
   "cell_type": "code",
   "execution_count": 1,
   "metadata": {},
   "outputs": [],
   "source": [
    "%%capture\n",
    "\n",
    "# Install Packages\n",
    "!pip install numpy\n",
    "!pip install pandas\n",
    "!pip install matplotlib\n",
    "!pip install sklearn\n",
    "!pip install statsmodels\n",
    "!pip install yellowbrick\n",
    "!pip install seaborn"
   ]
  },
  {
   "cell_type": "code",
   "execution_count": 2,
   "metadata": {},
   "outputs": [],
   "source": [
    "# Import Packages\n",
    "import pandas as pd\n",
    "import numpy as np\n",
    "\n",
    "import matplotlib.pyplot as plt\n",
    "import seaborn as sns\n",
    "\n",
    "from sklearn import preprocessing\n",
    "from sklearn.model_selection import train_test_split\n",
    "from sklearn.linear_model import LogisticRegression\n",
    "from sklearn.feature_selection import RFE\n",
    "from sklearn.metrics import confusion_matrix\n",
    "\n",
    "\n",
    "\n",
    "\n",
    "import random\n",
    "\n",
    "random.seed(10)"
   ]
  },
  {
   "cell_type": "markdown",
   "metadata": {},
   "source": [
    "# Data Preparation\n",
    "\n",
    "We start with a clean dataset of 10,000 observations. We're going to do some additional cleaning to optimize it for our purposes."
   ]
  },
  {
   "cell_type": "code",
   "execution_count": 3,
   "metadata": {},
   "outputs": [
    {
     "data": {
      "text/html": [
       "<div>\n",
       "<style scoped>\n",
       "    .dataframe tbody tr th:only-of-type {\n",
       "        vertical-align: middle;\n",
       "    }\n",
       "\n",
       "    .dataframe tbody tr th {\n",
       "        vertical-align: top;\n",
       "    }\n",
       "\n",
       "    .dataframe thead th {\n",
       "        text-align: right;\n",
       "    }\n",
       "</style>\n",
       "<table border=\"1\" class=\"dataframe\">\n",
       "  <thead>\n",
       "    <tr style=\"text-align: right;\">\n",
       "      <th></th>\n",
       "      <th>CaseOrder</th>\n",
       "      <th>Customer_id</th>\n",
       "      <th>Interaction</th>\n",
       "      <th>UID</th>\n",
       "      <th>City</th>\n",
       "      <th>State</th>\n",
       "      <th>County</th>\n",
       "      <th>Zip</th>\n",
       "      <th>Lat</th>\n",
       "      <th>Lng</th>\n",
       "      <th>...</th>\n",
       "      <th>TotalCharge</th>\n",
       "      <th>Additional_charges</th>\n",
       "      <th>Item1</th>\n",
       "      <th>Item2</th>\n",
       "      <th>Item3</th>\n",
       "      <th>Item4</th>\n",
       "      <th>Item5</th>\n",
       "      <th>Item6</th>\n",
       "      <th>Item7</th>\n",
       "      <th>Item8</th>\n",
       "    </tr>\n",
       "  </thead>\n",
       "  <tbody>\n",
       "    <tr>\n",
       "      <th>0</th>\n",
       "      <td>1</td>\n",
       "      <td>C412403</td>\n",
       "      <td>8cd49b13-f45a-4b47-a2bd-173ffa932c2f</td>\n",
       "      <td>3a83ddb66e2ae73798bdf1d705dc0932</td>\n",
       "      <td>Eva</td>\n",
       "      <td>AL</td>\n",
       "      <td>Morgan</td>\n",
       "      <td>35621</td>\n",
       "      <td>34.34960</td>\n",
       "      <td>-86.72508</td>\n",
       "      <td>...</td>\n",
       "      <td>3726.702860</td>\n",
       "      <td>17939.403420</td>\n",
       "      <td>3</td>\n",
       "      <td>3</td>\n",
       "      <td>2</td>\n",
       "      <td>2</td>\n",
       "      <td>4</td>\n",
       "      <td>3</td>\n",
       "      <td>3</td>\n",
       "      <td>4</td>\n",
       "    </tr>\n",
       "    <tr>\n",
       "      <th>1</th>\n",
       "      <td>2</td>\n",
       "      <td>Z919181</td>\n",
       "      <td>d2450b70-0337-4406-bdbb-bc1037f1734c</td>\n",
       "      <td>176354c5eef714957d486009feabf195</td>\n",
       "      <td>Marianna</td>\n",
       "      <td>FL</td>\n",
       "      <td>Jackson</td>\n",
       "      <td>32446</td>\n",
       "      <td>30.84513</td>\n",
       "      <td>-85.22907</td>\n",
       "      <td>...</td>\n",
       "      <td>4193.190458</td>\n",
       "      <td>17612.998120</td>\n",
       "      <td>3</td>\n",
       "      <td>4</td>\n",
       "      <td>3</td>\n",
       "      <td>4</td>\n",
       "      <td>4</td>\n",
       "      <td>4</td>\n",
       "      <td>3</td>\n",
       "      <td>3</td>\n",
       "    </tr>\n",
       "    <tr>\n",
       "      <th>2</th>\n",
       "      <td>3</td>\n",
       "      <td>F995323</td>\n",
       "      <td>a2057123-abf5-4a2c-abad-8ffe33512562</td>\n",
       "      <td>e19a0fa00aeda885b8a436757e889bc9</td>\n",
       "      <td>Sioux Falls</td>\n",
       "      <td>SD</td>\n",
       "      <td>Minnehaha</td>\n",
       "      <td>57110</td>\n",
       "      <td>43.54321</td>\n",
       "      <td>-96.63772</td>\n",
       "      <td>...</td>\n",
       "      <td>2434.234222</td>\n",
       "      <td>17505.192460</td>\n",
       "      <td>2</td>\n",
       "      <td>4</td>\n",
       "      <td>4</td>\n",
       "      <td>4</td>\n",
       "      <td>3</td>\n",
       "      <td>4</td>\n",
       "      <td>3</td>\n",
       "      <td>3</td>\n",
       "    </tr>\n",
       "    <tr>\n",
       "      <th>3</th>\n",
       "      <td>4</td>\n",
       "      <td>A879973</td>\n",
       "      <td>1dec528d-eb34-4079-adce-0d7a40e82205</td>\n",
       "      <td>cd17d7b6d152cb6f23957346d11c3f07</td>\n",
       "      <td>New Richland</td>\n",
       "      <td>MN</td>\n",
       "      <td>Waseca</td>\n",
       "      <td>56072</td>\n",
       "      <td>43.89744</td>\n",
       "      <td>-93.51479</td>\n",
       "      <td>...</td>\n",
       "      <td>2127.830423</td>\n",
       "      <td>12993.437350</td>\n",
       "      <td>3</td>\n",
       "      <td>5</td>\n",
       "      <td>5</td>\n",
       "      <td>3</td>\n",
       "      <td>4</td>\n",
       "      <td>5</td>\n",
       "      <td>5</td>\n",
       "      <td>5</td>\n",
       "    </tr>\n",
       "    <tr>\n",
       "      <th>4</th>\n",
       "      <td>5</td>\n",
       "      <td>C544523</td>\n",
       "      <td>5885f56b-d6da-43a3-8760-83583af94266</td>\n",
       "      <td>d2f0425877b10ed6bb381f3e2579424a</td>\n",
       "      <td>West Point</td>\n",
       "      <td>VA</td>\n",
       "      <td>King William</td>\n",
       "      <td>23181</td>\n",
       "      <td>37.59894</td>\n",
       "      <td>-76.88958</td>\n",
       "      <td>...</td>\n",
       "      <td>2113.073274</td>\n",
       "      <td>3716.525786</td>\n",
       "      <td>2</td>\n",
       "      <td>1</td>\n",
       "      <td>3</td>\n",
       "      <td>3</td>\n",
       "      <td>5</td>\n",
       "      <td>3</td>\n",
       "      <td>4</td>\n",
       "      <td>3</td>\n",
       "    </tr>\n",
       "  </tbody>\n",
       "</table>\n",
       "<p>5 rows × 50 columns</p>\n",
       "</div>"
      ],
      "text/plain": [
       "   CaseOrder Customer_id                           Interaction  \\\n",
       "0          1     C412403  8cd49b13-f45a-4b47-a2bd-173ffa932c2f   \n",
       "1          2     Z919181  d2450b70-0337-4406-bdbb-bc1037f1734c   \n",
       "2          3     F995323  a2057123-abf5-4a2c-abad-8ffe33512562   \n",
       "3          4     A879973  1dec528d-eb34-4079-adce-0d7a40e82205   \n",
       "4          5     C544523  5885f56b-d6da-43a3-8760-83583af94266   \n",
       "\n",
       "                                UID          City State        County    Zip  \\\n",
       "0  3a83ddb66e2ae73798bdf1d705dc0932           Eva    AL        Morgan  35621   \n",
       "1  176354c5eef714957d486009feabf195      Marianna    FL       Jackson  32446   \n",
       "2  e19a0fa00aeda885b8a436757e889bc9   Sioux Falls    SD     Minnehaha  57110   \n",
       "3  cd17d7b6d152cb6f23957346d11c3f07  New Richland    MN        Waseca  56072   \n",
       "4  d2f0425877b10ed6bb381f3e2579424a    West Point    VA  King William  23181   \n",
       "\n",
       "        Lat       Lng  ...  TotalCharge Additional_charges Item1 Item2  Item3  \\\n",
       "0  34.34960 -86.72508  ...  3726.702860       17939.403420     3     3      2   \n",
       "1  30.84513 -85.22907  ...  4193.190458       17612.998120     3     4      3   \n",
       "2  43.54321 -96.63772  ...  2434.234222       17505.192460     2     4      4   \n",
       "3  43.89744 -93.51479  ...  2127.830423       12993.437350     3     5      5   \n",
       "4  37.59894 -76.88958  ...  2113.073274        3716.525786     2     1      3   \n",
       "\n",
       "   Item4  Item5 Item6 Item7 Item8  \n",
       "0      2      4     3     3     4  \n",
       "1      4      4     4     3     3  \n",
       "2      4      3     4     3     3  \n",
       "3      3      4     5     5     5  \n",
       "4      3      5     3     4     3  \n",
       "\n",
       "[5 rows x 50 columns]"
      ]
     },
     "execution_count": 3,
     "metadata": {},
     "output_type": "execute_result"
    }
   ],
   "source": [
    "df = pd.read_csv(\"data/medical_clean.csv\")\n",
    "df.head()"
   ]
  },
  {
   "cell_type": "markdown",
   "metadata": {},
   "source": [
    "## Drop Irrelavant Data\n",
    "\n",
    "We begin the data preparation by removing irrelevant variables. We removed the following:\n",
    "- CaseOrder\n",
    "- Customer_id\n",
    "- Interaction\n",
    "- UID\n",
    "- City\n",
    "- State\n",
    "- County\n",
    "- Zip\n",
    "- Lat\n",
    "- Lng\n",
    "- Interaction\n",
    "- TimeZone\n",
    "- Additional_charges\n",
    "- Job\n",
    "- Item1 \n",
    "- Item2 \n",
    "- Item3 \n",
    "- Item4 \n",
    "- Item5 \n",
    "- Item6 \n",
    "- Item7 \n",
    "- Item8\n",
    "- TotalCharge "
   ]
  },
  {
   "cell_type": "code",
   "execution_count": 4,
   "metadata": {},
   "outputs": [],
   "source": [
    "df = df.drop(['CaseOrder', 'Customer_id', 'Interaction', 'UID', 'City', \n",
    "             'State', 'County', 'Zip', 'Lat', 'Lng', 'Interaction', 'TimeZone', \n",
    "              'Additional_charges', 'Job', 'Item1', 'Item2', 'Item3', 'Item4', \n",
    "             'Item5', 'Item6', 'Item7', 'Item8', 'TotalCharge'], axis=1)"
   ]
  },
  {
   "cell_type": "markdown",
   "metadata": {},
   "source": [
    "## Make all data numeric\n",
    "\n",
    "Logistic Regression requires numeric values to work, we will modify the data with dummy variables to accomodate this."
   ]
  },
  {
   "cell_type": "code",
   "execution_count": 5,
   "metadata": {},
   "outputs": [],
   "source": [
    "readmis = df['ReAdmis']\n",
    "\n",
    "df = pd.get_dummies(df)\n",
    "\n",
    "# We want ReAdmis, our target variable, to be a single column\n",
    "df = df.drop(['ReAdmis_No', 'ReAdmis_Yes'], axis=1)\n",
    "df = df.assign(ReAdmis=readmis)\n",
    "df['ReAdmis'] = pd.Categorical(df['ReAdmis'])\n",
    "df['ReAdmis'] = df['ReAdmis'].cat.codes"
   ]
  },
  {
   "cell_type": "markdown",
   "metadata": {},
   "source": [
    "## Splitting Data\n",
    "\n",
    "We'll first divide the data into our target ``y``, ``ReAdmis``, and our predictors ``X``.\n",
    "\n",
    "Feature | Type\n",
    "--- | ---\n",
    "Population | numeric\n",
    "Area | categorical\n",
    "Children| numeric\n",
    "Age| numeric\n",
    "Income| numeric\n",
    "Marital| categorical\n",
    "Gender| categorical\n",
    "VitD_levels| numeric\n",
    "Doc_visits| numeric\n",
    "Full_meals_eaten| numeric\n",
    "vitD_supp| numeric\n",
    "Soft_drink| categorical\n",
    "Initial_admin| categorical\n",
    "HighBlood| categorical\n",
    "Stroke| categorical\n",
    "Complication_risk| categorical\n",
    "Overweight| categorical\n",
    "Arthritis| categorical\n",
    "Diabetes| categorical\n",
    "Hyperlipidemia| categorical\n",
    "BackPain| categorical\n",
    "Anxiety| categorical\n",
    "Allergic_rhinitis| categorical\n",
    "Reflux_esophagitis| categorical\n",
    "Asthma| categorical\n",
    "Services| categorical\n",
    "Initial_days| numeric\n",
    "\n",
    "All data labled \"categorical\" has of course been split into dummy variables."
   ]
  },
  {
   "cell_type": "code",
   "execution_count": 6,
   "metadata": {},
   "outputs": [],
   "source": [
    "X = df.loc[:,df.columns!='ReAdmis']\n",
    "y = df['ReAdmis']"
   ]
  },
  {
   "cell_type": "markdown",
   "metadata": {},
   "source": [
    "We further split the data into training and testing data. We'll also apply a scaler."
   ]
  },
  {
   "cell_type": "code",
   "execution_count": 7,
   "metadata": {},
   "outputs": [],
   "source": [
    "scaler = preprocessing.StandardScaler().fit(X)\n",
    "scaled = scaler.transform(X)\n",
    "\n",
    "X_train, X_test, y_train, y_test = train_test_split(scaled, y, test_size=0.2, random_state=42)"
   ]
  },
  {
   "cell_type": "markdown",
   "metadata": {},
   "source": [
    "# Models\n",
    "\n",
    "We'll start with an initial model using all of the predictors. Then we'll reduce the predictors and compare the reduced models to the initial one."
   ]
  },
  {
   "cell_type": "markdown",
   "metadata": {},
   "source": [
    "## Initial Model"
   ]
  },
  {
   "cell_type": "code",
   "execution_count": 8,
   "metadata": {},
   "outputs": [],
   "source": [
    "initial_model = LogisticRegression(random_state=0).fit(X_train, y_train)\n",
    "initial_model.predict(X_test)\n",
    "initial_score = initial_model.score(X_test, y_test)"
   ]
  },
  {
   "cell_type": "markdown",
   "metadata": {},
   "source": [
    "## Data Reduction\n",
    "\n",
    "We'll use Recursive Feature Elimination to reduce the data."
   ]
  },
  {
   "cell_type": "code",
   "execution_count": 9,
   "metadata": {},
   "outputs": [
    {
     "name": "stdout",
     "output_type": "stream",
     "text": [
      "\n",
      "\n",
      "Selected reduced features:\n",
      "- Services_MRI\n",
      "- Population\n",
      "- Children\n",
      "- Age\n",
      "- Income\n",
      "- VitD_levels\n",
      "- Doc_visits\n",
      "- Full_meals_eaten\n",
      "- vitD_supp\n",
      "- Initial_days\n"
     ]
    }
   ],
   "source": [
    "selector = RFE(initial_model, n_features_to_select=10, step=3)\n",
    "selector = selector.fit(X_train, y_train)\n",
    "\n",
    "best_variables = []\n",
    "sort = selector.ranking_.sort()\n",
    "\n",
    "for i, val in enumerate(selector.ranking_):    \n",
    "    if val == 1:\n",
    "        best_variables.append(X.columns[i-1])\n",
    "\n",
    "print(\"\\n\\nSelected reduced features:\")\n",
    "for b in best_variables:\n",
    "    print('- %s' % b)"
   ]
  },
  {
   "cell_type": "markdown",
   "metadata": {},
   "source": [
    "## Reduced Model\n",
    "\n",
    "Now we rebuild the model with the reduces list of variables from the previous section."
   ]
  },
  {
   "cell_type": "code",
   "execution_count": 10,
   "metadata": {},
   "outputs": [],
   "source": [
    "X_reduced = df[best_variables]\n",
    "\n",
    "scaler = preprocessing.StandardScaler().fit(X_reduced)\n",
    "scaled = scaler.transform(X_reduced)\n",
    "\n",
    "X_train, X_test, y_train, y_test = train_test_split(scaled, y, test_size=0.2)\n",
    "reduced_model = LogisticRegression(random_state=0).fit(X_train, y_train)\n",
    "reduced_model.predict(X_test)\n",
    "reduced_score = reduced_model.score(X_test, y_test)"
   ]
  },
  {
   "cell_type": "markdown",
   "metadata": {},
   "source": [
    "Using only the five selected variables we were able to create a model that is only .003% worse than the full model, showing the impact of just these 5 variables."
   ]
  },
  {
   "cell_type": "markdown",
   "metadata": {},
   "source": [
    "# Results Summary\n",
    "\n",
    "\n",
    "## Model Accuracy\n",
    "\n",
    "We will look at the scores of the initial and reduced models and compare them."
   ]
  },
  {
   "cell_type": "code",
   "execution_count": 11,
   "metadata": {},
   "outputs": [
    {
     "name": "stdout",
     "output_type": "stream",
     "text": [
      "Initial model's score: 0.983, \n",
      "Reduced model's score: 0.979, \n",
      "Difference: -0.004\n",
      "\n",
      "Coefficients:\n",
      "- Services_MRI: 0.234\n",
      "- Population: 0.110\n",
      "- Children: 0.104\n",
      "- Age: 0.015\n",
      "- Income: -0.031\n",
      "- VitD_levels: 0.064\n",
      "- Doc_visits: 0.043\n",
      "- Full_meals_eaten: 0.053\n",
      "- vitD_supp: 0.001\n",
      "- Initial_days: 14.723\n"
     ]
    }
   ],
   "source": [
    "print('Initial model\\'s score: %.3f, ' % initial_score)\n",
    "print('Reduced model\\'s score: %.3f, ' % reduced_score)\n",
    "print('Difference: %.3f' % (reduced_score - initial_score))\n",
    "\n",
    "print('\\nCoefficients:')\n",
    "for i, c in enumerate(reduced_model.coef_[0]):\n",
    "    print('- %s: %.3f' % (X_reduced.columns[i], c))"
   ]
  },
  {
   "cell_type": "markdown",
   "metadata": {},
   "source": [
    "## Confusion Matrix\n",
    "We will look at the confusion matrix to get a better idea of the model's accuracy."
   ]
  },
  {
   "cell_type": "code",
   "execution_count": 12,
   "metadata": {},
   "outputs": [
    {
     "data": {
      "text/plain": [
       "array([[1248,   24],\n",
       "       [  18,  710]])"
      ]
     },
     "execution_count": 12,
     "metadata": {},
     "output_type": "execute_result"
    }
   ],
   "source": [
    "confusion_matrix(y_test, reduced_model.predict(X_test))"
   ]
  },
  {
   "cell_type": "markdown",
   "metadata": {},
   "source": [
    "Here is a more human-readable table:\n",
    "\n",
    "| | Predicted Positive | Predicted Negative\n",
    "--- | --- | ---\n",
    "**Actual Positive** | 1209 | 22 \n",
    "**Actual Negative** | 19 | 750\n",
    "\n",
    "1959/2000 Of the test observations were true positives/negatives. Or 98%"
   ]
  },
  {
   "cell_type": "markdown",
   "metadata": {},
   "source": [
    "## Statistical Significance\n",
    "\n",
    "We were able to get within 4 thousandths of the accuracy of the full model with only the 10 variables we reduced to, an inconsequential change. With this information we now know that if a hospital wants to estimate the total cost of a visit they need only look at the reduced variables such as MRI services and Initial Days.\n",
    "\n",
    "## Limitations\n",
    "\n",
    "With only 10,000 patient records to work with there is a chance this model has been biased towards a particular conclusion. For example in another set of patients a different pre-existing condition such as Anxiety or a demographic attribute such as Gender may contribute more to ReAdmission. \n",
    "\n",
    "## Recommendations\n",
    "\n",
    "The biggest contributer to readmission according to our model is the initial length of a patient's visit. Therefore to prevent readmissions hospitals should pay extra attention to patients that have already spent considerable time in the hospital."
   ]
  }
 ],
 "metadata": {
  "interpreter": {
   "hash": "04243d7c7120e5db295aae06d359701a27ef8d4d681ba9d1981a5f32ec8247f7"
  },
  "kernelspec": {
   "display_name": "Python 3",
   "language": "python",
   "name": "python3"
  },
  "language_info": {
   "codemirror_mode": {
    "name": "ipython",
    "version": 3
   },
   "file_extension": ".py",
   "mimetype": "text/x-python",
   "name": "python",
   "nbconvert_exporter": "python",
   "pygments_lexer": "ipython3",
   "version": "3.8.5"
  }
 },
 "nbformat": 4,
 "nbformat_minor": 4
}
